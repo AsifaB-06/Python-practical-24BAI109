{
 "cells": [
  {
   "cell_type": "code",
   "execution_count": 1,
   "id": "7a001fcd-2c0b-4f8d-a144-55d20e0e4a3f",
   "metadata": {},
   "outputs": [
    {
     "name": "stdin",
     "output_type": "stream",
     "text": [
      "Enter the number:  5\n"
     ]
    },
    {
     "name": "stdout",
     "output_type": "stream",
     "text": [
      "The number cannot divided by zero\n",
      "All blocks are executed\n"
     ]
    }
   ],
   "source": [
    "#Zero division error\n",
    "try:\n",
    "    a=int(input(\"Enter the number: \"))\n",
    "    b=a/0\n",
    "    print(b)\n",
    "except ZeroDivisionError:\n",
    "    print(\"The number cannot divided by zero\")\n",
    "except ValueError:\n",
    "    print(\"The given input is not valid\")\n",
    "except Exception as e:\n",
    "    print(f\"Common exception {e}\")\n",
    "finally:\n",
    "    print(\"All blocks are executed\")"
   ]
  },
  {
   "cell_type": "code",
   "execution_count": 2,
   "id": "19e40118-fd35-4fde-b64f-48e64b2adc63",
   "metadata": {},
   "outputs": [
    {
     "name": "stdin",
     "output_type": "stream",
     "text": [
      "Enter the file name: text.txt\n"
     ]
    },
    {
     "name": "stdout",
     "output_type": "stream",
     "text": [
      "The text file is not found\n",
      "All blocks are executed\n"
     ]
    }
   ],
   "source": [
    "#File not found exception\n",
    "try:\n",
    "    a=input(\"Enter the file name:\")\n",
    "    with open(a, \"r\") as file:\n",
    "        data=file.read() \n",
    "        print(\"File Content: \\n\") \n",
    "        print(data)\n",
    "except FileNotFoundError:\n",
    "    print(\"The text file is not found\")\n",
    "except Exception as e:\n",
    "    print(f\"Common exception {e}\")\n",
    "finally:\n",
    "    print(\"All blocks are executed\")"
   ]
  },
  {
   "cell_type": "code",
   "execution_count": 3,
   "id": "def9faca-d60a-49c2-9a1c-f91dbfbb6a1c",
   "metadata": {},
   "outputs": [
    {
     "name": "stdin",
     "output_type": "stream",
     "text": [
      "Enter the age: -16\n"
     ]
    },
    {
     "name": "stdout",
     "output_type": "stream",
     "text": [
      "Error: Age cannot be negative\n"
     ]
    }
   ],
   "source": [
    "#Age Validation\n",
    "def checkage(age):\n",
    "    if age<0:\n",
    "        raise ValueError(\"Age cannot be negative\")\n",
    "    else:\n",
    "        print(\"Age is valid\")\n",
    "try:\n",
    "    age=int(input(\"Enter the age:\"))\n",
    "    checkage(age)\n",
    "except ValueError as e:\n",
    "    print(\"Error:\",e)"
   ]
  },
  {
   "cell_type": "code",
   "execution_count": 4,
   "id": "c77ce8c0-9977-4f3c-93a9-d2bf2a551c79",
   "metadata": {},
   "outputs": [
    {
     "name": "stdin",
     "output_type": "stream",
     "text": [
      "Enter the index value: 4\n"
     ]
    },
    {
     "name": "stdout",
     "output_type": "stream",
     "text": [
      "The given value is out of the index\n"
     ]
    }
   ],
   "source": [
    "#Index error\n",
    "try:\n",
    "    a=[2,3,4,5]\n",
    "    b=int(input(\"Enter the index value:\"))\n",
    "    print(a[b])\n",
    "except IndexError:\n",
    "    print(\"The given value is out of the index\")"
   ]
  },
  {
   "cell_type": "code",
   "execution_count": 5,
   "id": "a2436089-543f-4d8f-9ff0-01b99481bd86",
   "metadata": {},
   "outputs": [
    {
     "name": "stdin",
     "output_type": "stream",
     "text": [
      "Enter the name: Ten\n"
     ]
    },
    {
     "name": "stdout",
     "output_type": "stream",
     "text": [
      "Invalid value\n"
     ]
    }
   ],
   "source": [
    "#value error\n",
    "try:\n",
    "    a=int(input(\"Enter the number:\"))\n",
    "    print(a)\n",
    "except ValueError:\n",
    "    print(\"Invalid value\")"
   ]
  },
  {
   "cell_type": "code",
   "execution_count": 6,
   "id": "5abcbf14-d5b4-43d4-a4f5-734b53771877",
   "metadata": {},
   "outputs": [
    {
     "name": "stdin",
     "output_type": "stream",
     "text": [
      "Enter the key: class\n"
     ]
    },
    {
     "name": "stdout",
     "output_type": "stream",
     "text": [
      "The given key value is not present.\n"
     ]
    }
   ],
   "source": [
    "#Key error\n",
    "try:\n",
    "    d={\"name\": \"ashifa\", \"age\":18}\n",
    "    e=input(\"Enter the key:\")\n",
    "    print(d[e])\n",
    "except KeyError:\n",
    "    print(\"The given key value is not present.\")"
   ]
  }
 ],
 "metadata": {
  "kernelspec": {
   "display_name": "Python 3 (ipykernel)",
   "language": "python",
   "name": "python3"
  },
  "language_info": {
   "codemirror_mode": {
    "name": "ipython",
    "version": 3
   },
   "file_extension": ".py",
   "mimetype": "text/x-python",
   "name": "python",
   "nbconvert_exporter": "python",
   "pygments_lexer": "ipython3",
   "version": "3.13.5"
  }
 },
 "nbformat": 4,
 "nbformat_minor": 5
}
