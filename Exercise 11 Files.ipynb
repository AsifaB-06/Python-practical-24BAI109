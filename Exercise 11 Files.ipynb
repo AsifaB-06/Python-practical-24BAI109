{
 "cells": [
  {
   "cell_type": "code",
   "execution_count": 1,
   "id": "1e28e6aa-0f1b-47bd-ac21-63a66cbc9df8",
   "metadata": {},
   "outputs": [
    {
     "name": "stdout",
     "output_type": "stream",
     "text": [
      "Python is one of the most popular high-level, interpreted programming languages, known for its simplicity, readability, and versatility. It was created by Guido van Rossum and first released in 1991.\n"
     ]
    }
   ],
   "source": [
    "#Opening the existing file\n",
    "file=open(\"simple.txt\",\"r\")\n",
    "print(file.read())\n",
    "file.close()"
   ]
  },
  {
   "cell_type": "code",
   "execution_count": 8,
   "id": "59bb93ad-6a0f-4368-a481-e29da2c4e85d",
   "metadata": {},
   "outputs": [
    {
     "name": "stdout",
     "output_type": "stream",
     "text": [
      "File created and the content has written successfully\n"
     ]
    }
   ],
   "source": [
    "#create and write data to a file \n",
    "with open(\"sample.txt\", \"w\") as file:\n",
    "    file.write(\"Python is a general-purpose programming language used everywhere.\\n\")\n",
    "    file.write(\"From web apps to AI, automation to cybersecurity—making it one of the most powerful and in-demand skills today.\\n\")\n",
    "print(\"File created and the content has written successfully\")"
   ]
  },
  {
   "cell_type": "code",
   "execution_count": 9,
   "id": "984d1217-e8ea-4b8f-b370-aadafd53d15f",
   "metadata": {},
   "outputs": [
    {
     "name": "stdout",
     "output_type": "stream",
     "text": [
      "File Content:\n",
      "\n",
      "Python is a general-purpose programming language used everywhere.\n",
      "From web apps to AI, automation to cybersecurity—making it one of the most powerful and in-demand skills today.\n",
      "\n"
     ]
    }
   ],
   "source": [
    "#read the data from the file \n",
    "with open(\"sample.txt\", \"r\") as file: \n",
    "    content=file.read() \n",
    "    print(\"File Content:\\n\") \n",
    "    print(content)"
   ]
  },
  {
   "cell_type": "code",
   "execution_count": 12,
   "id": "d2d7c64e-871b-4748-ae45-170337a49cf5",
   "metadata": {},
   "outputs": [
    {
     "name": "stdout",
     "output_type": "stream",
     "text": [
      "New content appended to the file\n"
     ]
    }
   ],
   "source": [
    "#append the data to the file\n",
    "with open(\"sample.txt\",\"a\") as file:\n",
    "    file.write(\"Comparing to other programming language, In python file handling is easy and simple.\\n\")\n",
    "    file.write(\"We can easily create, write, read and append a file.\")\n",
    "print(\"New content appended to the file\")"
   ]
  },
  {
   "cell_type": "code",
   "execution_count": 13,
   "id": "9cf8bec7-0dce-422e-b505-5f9f7b803360",
   "metadata": {},
   "outputs": [
    {
     "name": "stdout",
     "output_type": "stream",
     "text": [
      "File Content:\n",
      "\n",
      "Python is a general-purpose programming language used everywhere.\n",
      "From web apps to AI, automation to cybersecurity—making it one of the most powerful and in-demand skills today.\n",
      "Comparing to other programming language, In python file handling is easy and simple.\n",
      "We can easily create, write, read and append a file.Comparing to other programming language, In python file handling is easy and simple.\n",
      "We can easily create, write, read and append a file.\n"
     ]
    }
   ],
   "source": [
    "#reading the file after appending\n",
    "with open(\"sample.txt\",\"r\") as file:\n",
    "    data=file.read()\n",
    "    print(\"File Content:\\n\") \n",
    "    print(data)"
   ]
  }
 ],
 "metadata": {
  "kernelspec": {
   "display_name": "Python 3 (ipykernel)",
   "language": "python",
   "name": "python3"
  },
  "language_info": {
   "codemirror_mode": {
    "name": "ipython",
    "version": 3
   },
   "file_extension": ".py",
   "mimetype": "text/x-python",
   "name": "python",
   "nbconvert_exporter": "python",
   "pygments_lexer": "ipython3",
   "version": "3.13.5"
  }
 },
 "nbformat": 4,
 "nbformat_minor": 5
}
