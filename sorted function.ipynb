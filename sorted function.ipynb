{
 "cells": [
  {
   "cell_type": "code",
   "execution_count": 2,
   "id": "8250a41b-6139-4126-8d1d-93a16e46b8e3",
   "metadata": {},
   "outputs": [
    {
     "name": "stdout",
     "output_type": "stream",
     "text": [
      "[1, 2, 3, 4, 6, 8, 9]\n"
     ]
    }
   ],
   "source": [
    "n=[4,6,1,3,8,9,2]\n",
    "e=list(sorted(n))\n",
    "print(e)"
   ]
  },
  {
   "cell_type": "code",
   "execution_count": 3,
   "id": "aede6aa0-7052-40c3-ad0c-9051ad6415e3",
   "metadata": {},
   "outputs": [
    {
     "name": "stdout",
     "output_type": "stream",
     "text": [
      "[9, 8, 6, 4, 3, 2, 1]\n"
     ]
    }
   ],
   "source": [
    "n=[4,6,1,3,8,9,2]\n",
    "e=list(sorted(n,reverse=True))\n",
    "print(e)"
   ]
  },
  {
   "cell_type": "code",
   "execution_count": 5,
   "id": "169045f4-8e78-40d1-9a58-4c07c4954482",
   "metadata": {},
   "outputs": [
    {
     "name": "stdout",
     "output_type": "stream",
     "text": [
      "['Apple', 'Banana', 'Grapes', 'Orange']\n"
     ]
    }
   ],
   "source": [
    "a=[\"Apple\",\"Orange\",\"Banana\",\"Grapes\"]\n",
    "e=list(sorted(a))\n",
    "print(e)"
   ]
  },
  {
   "cell_type": "code",
   "execution_count": 6,
   "id": "f4077691-39b0-4e40-ad01-c06fad7ac4b3",
   "metadata": {},
   "outputs": [
    {
     "name": "stdout",
     "output_type": "stream",
     "text": [
      "['Apple', 'Dates', 'Banana', 'Cherry', 'Grapes', 'Jackfruit', 'Watermelon']\n"
     ]
    }
   ],
   "source": [
    "a=[\"Apple\",\"Banana\",\"Cherry\",\"Dates\",\"Grapes\",\"Jackfruit\",\"Watermelon\"]\n",
    "e=list(sorted(a,key=len))\n",
    "print(e)"
   ]
  },
  {
   "cell_type": "code",
   "execution_count": 7,
   "id": "425d7f46-1c3c-4b07-8ad9-56aa18f195f8",
   "metadata": {},
   "outputs": [
    {
     "name": "stdout",
     "output_type": "stream",
     "text": [
      "[(2, 'Ashif'), (1, 'Bhavish'), (5, 'Megna'), (3, 'Shruthi'), (4, 'Yashika')]\n"
     ]
    }
   ],
   "source": [
    "students=[(1,\"Bhavish\"),(2,\"Ashif\"),(3,\"Shruthi\"),(4,\"Yashika\"),(5,\"Megna\")]\n",
    "print(sorted(students,key=lambda x:x[1]))"
   ]
  }
 ],
 "metadata": {
  "kernelspec": {
   "display_name": "Python 3 (ipykernel)",
   "language": "python",
   "name": "python3"
  },
  "language_info": {
   "codemirror_mode": {
    "name": "ipython",
    "version": 3
   },
   "file_extension": ".py",
   "mimetype": "text/x-python",
   "name": "python",
   "nbconvert_exporter": "python",
   "pygments_lexer": "ipython3",
   "version": "3.13.5"
  }
 },
 "nbformat": 4,
 "nbformat_minor": 5
}
