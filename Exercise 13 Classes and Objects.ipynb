{
 "cells": [
  {
   "cell_type": "code",
   "execution_count": 2,
   "id": "321146f6-609b-47c8-a812-bbedf8f93b1c",
   "metadata": {},
   "outputs": [
    {
     "name": "stdout",
     "output_type": "stream",
     "text": [
      "Welcome\n"
     ]
    }
   ],
   "source": [
    "#class and object example 01\n",
    "class student1:\n",
    "    def show(self):\n",
    "        print(\"Welcome\")\n",
    "d=student1()\n",
    "d.show()"
   ]
  },
  {
   "cell_type": "code",
   "execution_count": 1,
   "id": "4f10ca5c-dab4-4deb-8aa6-f16603c59072",
   "metadata": {},
   "outputs": [
    {
     "name": "stdout",
     "output_type": "stream",
     "text": [
      "10\n"
     ]
    }
   ],
   "source": [
    "#class and object example 02\n",
    "class sum:\n",
    "    def add(self,a,b):\n",
    "        print(a+b)\n",
    "s=sum()\n",
    "s.add(6,4)"
   ]
  },
  {
   "cell_type": "code",
   "execution_count": 5,
   "id": "df3f6b3d-859a-4bf5-8097-6c7a69226d38",
   "metadata": {},
   "outputs": [
    {
     "name": "stdout",
     "output_type": "stream",
     "text": [
      "Name: Ashifa\n",
      "Grade: 0\n",
      "Name: Shruthi\n",
      "Grade: A+\n"
     ]
    }
   ],
   "source": [
    "#student details\n",
    "class student:\n",
    "    def __init__(self, name, grade):\n",
    "        self.name=name\n",
    "        self.grade=grade\n",
    "    def display(self):\n",
    "        print(\"Name:\", self.name)\n",
    "        print(\"Grade:\", self.grade)\n",
    "s1=student(\"Ashifa\",\"0\")\n",
    "s1.display()\n",
    "s2=student(\"Shruthi\", \"A+\")\n",
    "s2.display()"
   ]
  },
  {
   "cell_type": "code",
   "execution_count": 18,
   "id": "ae046cfd-b2fe-475b-bfec-d0d182dab2b0",
   "metadata": {},
   "outputs": [
    {
     "name": "stdout",
     "output_type": "stream",
     "text": [
      "Name: Asifa\n",
      "Roll Number: 109\n",
      "Marks: [90, 96, 92]\n",
      "Average: 92.66666666666667\n",
      "Grade: A\n"
     ]
    }
   ],
   "source": [
    "#student grade details\n",
    "class student:\n",
    "    def __init__(self,name, rollno, marks):\n",
    "        self.name=name\n",
    "        self.rollno=rollno\n",
    "        self.marks=marks\n",
    "    def display(self):\n",
    "        print(\"Name:\", self.name) \n",
    "        print(\"Roll Number:\", self.rollno) \n",
    "        print(\"Marks:\", self.marks)\n",
    "    def average (self): \n",
    "        return sum(self.marks)/3\n",
    "    def grade(self):\n",
    "        avg=self.average()\n",
    "        if avg>=90:\n",
    "            return \"A\"\n",
    "        elif avg>=75:\n",
    "            return \"B\"\n",
    "        elif avg>=65:\n",
    "            return \"C\"\n",
    "        else:\n",
    "            return \"D\"\n",
    "s1=student(\"Asifa\", 109, [90,96,92])\n",
    "s1.display()\n",
    "print(\"Average:\", s1.average()) \n",
    "print(\"Grade:\", s1.grade())"
   ]
  },
  {
   "cell_type": "code",
   "execution_count": 3,
   "id": "66fba6cf-9e98-43b1-8d68-fda88e0cc954",
   "metadata": {},
   "outputs": [
    {
     "name": "stdout",
     "output_type": "stream",
     "text": [
      "Deposit: 2000, New Balance: 3000\n",
      "Withdraw: 1000, New Balance: 2000\n",
      "Deposit: 4000, New Balance: 6000\n",
      "Withdraw: 2000, New Balance: 4000\n"
     ]
    }
   ],
   "source": [
    "#bank account details\n",
    "class bank_account:\n",
    "    def __init__(self,account_holder, balance=0):\n",
    "        self.account_holder=account_holder\n",
    "        self.balance=balance\n",
    "    def deposit(self, amount):\n",
    "        self.balance+=amount\n",
    "        print(f\"Deposit: {amount}, New Balance: {self.balance}\")\n",
    "    def withdraw(self, amount):\n",
    "        if self.balance>=amount:\n",
    "            self.balance-=amount\n",
    "            print(f\"Withdraw: {amount}, New Balance: {self.balance}\")\n",
    "        else:\n",
    "            print(\"Insufficient Balance\")\n",
    "account=bank_account(\"Ashifa\", 1000)\n",
    "account.deposit (2000)\n",
    "account.withdraw(1000)\n",
    "account.deposit (4000)\n",
    "account.withdraw (2000)"
   ]
  },
  {
   "cell_type": "code",
   "execution_count": 6,
   "id": "3a1a87f0-a59b-452a-b893-48db57aa1d01",
   "metadata": {},
   "outputs": [
    {
     "name": "stdin",
     "output_type": "stream",
     "text": [
      "Enter the name: Ashifa\n"
     ]
    },
    {
     "name": "stdout",
     "output_type": "stream",
     "text": [
      "Account_holder: Ashifa\n"
     ]
    },
    {
     "name": "stdin",
     "output_type": "stream",
     "text": [
      "Enter the amount to deposit: 1000\n"
     ]
    },
    {
     "name": "stdout",
     "output_type": "stream",
     "text": [
      "Deposit: 1000, New Balance: 3000\n"
     ]
    },
    {
     "name": "stdin",
     "output_type": "stream",
     "text": [
      "Enter the amount to withdraw: 1500\n"
     ]
    },
    {
     "name": "stdout",
     "output_type": "stream",
     "text": [
      "Withdraw: 1500, New Balance: 1500\n"
     ]
    }
   ],
   "source": [
    "#bank account details with user input\n",
    "class bank_account:\n",
    "    def __init__(self, account_holder, balance=0):\n",
    "        self.account_holder=account_holder\n",
    "        self.balance=balance\n",
    "    def deposit(self,amount):\n",
    "        self.balance+=amount\n",
    "        print(f\"Deposit: {amount}, New Balance: {self.balance}\")\n",
    "    def withdraw(self,amount):\n",
    "        if self.balance>=amount:\n",
    "            self.balance-=amount\n",
    "            print(f\"Withdraw: {amount}, New Balance: {self.balance}\")\n",
    "        else:\n",
    "            print(\"Insufficient Balance\")\n",
    "name=input(\"Enter the name:\")\n",
    "print(\"Account_holder:\", name)\n",
    "account=bank_account(name,2000)\n",
    "deposit=int(input(\"Enter the amount to deposit:\"))\n",
    "account.deposit(deposit)\n",
    "withdraw=int(input(\"Enter the amount to withdraw:\"))\n",
    "account.withdraw(withdraw)"
   ]
  }
 ],
 "metadata": {
  "kernelspec": {
   "display_name": "Python 3 (ipykernel)",
   "language": "python",
   "name": "python3"
  },
  "language_info": {
   "codemirror_mode": {
    "name": "ipython",
    "version": 3
   },
   "file_extension": ".py",
   "mimetype": "text/x-python",
   "name": "python",
   "nbconvert_exporter": "python",
   "pygments_lexer": "ipython3",
   "version": "3.13.5"
  }
 },
 "nbformat": 4,
 "nbformat_minor": 5
}
